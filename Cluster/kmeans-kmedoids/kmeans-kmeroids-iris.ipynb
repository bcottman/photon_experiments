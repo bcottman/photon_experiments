{
 "cells": [
  {
   "cell_type": "markdown",
   "metadata": {},
   "source": [
    "## todo"
   ]
  },
  {
   "cell_type": "markdown",
   "metadata": {},
   "source": [
    "\n",
    "- add cm\n",
    "- add xgboost to custom.json\n",
    "- add cleaning\n",
    "- add scaling\n",
    "- add PCA , t-SNE\n",
    "- add other datasets\n",
    "- - iris, moon, blobs\n"
   ]
  },
  {
   "cell_type": "code",
   "execution_count": 1,
   "metadata": {
    "ExecuteTime": {
     "end_time": "2020-05-21T13:09:08.408049Z",
     "start_time": "2020-05-21T13:09:07.327964Z"
    }
   },
   "outputs": [
    {
     "data": {
      "image/png": "[encoded data removed]",
      "text/plain": [
       "<Figure size 432x288 with 1 Axes>"
      ]
     },
     "metadata": {
      "needs_background": "light"
     },
     "output_type": "display_data"
    }
   ],
   "source": [
    "%matplotlib inline\n",
    "\n",
    "import matplotlib\n",
    "\n",
    "import matplotlib.pyplot as plt\n",
    "from sklearn.datasets import load_breast_cancer\n",
    "from sklearn.datasets import load_iris\n",
    "from sklearn.datasets import make_blobs\n",
    "from sklearn.datasets import make_moons\n",
    "\n",
    "iris = load_iris()\n",
    "\n",
    "data_X, data_y = iris.data,iris.target\n",
    "plt.scatter(data_X[:, 0], data_X[:, 1], s=50);"
   ]
  },
  {
   "cell_type": "code",
   "execution_count": 2,
   "metadata": {
    "ExecuteTime": {
     "end_time": "2020-05-21T13:09:15.579759Z",
     "start_time": "2020-05-21T13:09:08.411966Z"
    }
   },
   "outputs": [
    {
     "data": {
      "text/plain": [
       "['# packages in environment at /opt/conda:',\n",
       " '#',\n",
       " '# Name                    Version                   Build  Channel',\n",
       " '_libgcc_mutex             0.1                 conda_forge    conda-forge',\n",
       " '_openmp_mutex             4.5                       0_gnu    conda-forge',\n",
       " 'alembic                   1.4.2              pyh9f0ad1d_0    conda-forge',\n",
       " 'astroid                   2.4.1                    pypi_0    pypi',\n",
       " 'astunparse                1.6.3                    pypi_0    pypi',\n",
       " 'async_generator           1.10                       py_0    conda-forge',\n",
       " 'attrs                     19.3.0                     py_0    conda-forge',\n",
       " 'backcall                  0.1.0                      py_0    conda-forge',\n",
       " 'bleach                    3.1.4              pyh9f0ad1d_0    conda-forge',\n",
       " 'blinker                   1.4                        py_1    conda-forge',\n",
       " 'brotlipy                  0.7.0           py37h8f50634_1000    conda-forge',\n",
       " 'ca-certificates           2020.4.5.1           hecc5488_0    conda-forge',\n",
       " 'certifi                   2020.4.5.1               pypi_0    pypi',\n",
       " 'certipy                   0.1.3                      py_0    conda-forge',\n",
       " 'cffi                      1.14.0           py37hd463f26_0    conda-forge',\n",
       " 'chardet                   3.0.4           py37hc8dfbb8_1006    conda-forge',\n",
       " 'click                     7.1.2                    pypi_0    pypi',\n",
       " 'cloudpickle               1.4.1                    pypi_0    pypi',\n",
       " 'colour                    0.1.5                    pypi_0    pypi',\n",
       " 'conda                     4.8.2                    py37_0    conda-forge',\n",
       " 'conda-package-handling    1.6.0            py37h8f50634_2    conda-forge',\n",
       " 'configurable-http-proxy   4.2.1           node13_he01fd0c_0    conda-forge',\n",
       " 'cryptography              2.9.2            py37hb09aad4_0    conda-forge',\n",
       " 'cycler                    0.10.0                   pypi_0    pypi',\n",
       " 'dask                      2.16.0                   pypi_0    pypi',\n",
       " 'decorator                 4.4.2                      py_0    conda-forge',\n",
       " 'defusedxml                0.6.0                      py_0    conda-forge',\n",
       " 'distributed               2.16.0                   pypi_0    pypi',\n",
       " 'entrypoints               0.3             py37hc8dfbb8_1001    conda-forge',\n",
       " 'flask                     1.1.2                    pypi_0    pypi',\n",
       " 'geojson                   2.5.0                    pypi_0    pypi',\n",
       " 'h5py                      2.10.0                   pypi_0    pypi',\n",
       " 'heapdict                  1.0.1                    pypi_0    pypi',\n",
       " 'icu                       64.2                 he1b5a44_1    conda-forge',\n",
       " 'idna                      2.9                        py_1    conda-forge',\n",
       " 'imagecodecs               2020.2.18                pypi_0    pypi',\n",
       " 'imageio                   2.8.0                    pypi_0    pypi',\n",
       " 'imbalanced-learn          0.6.2                    pypi_0    pypi',\n",
       " 'imblearn                  0.0                      pypi_0    pypi',\n",
       " 'importlib-metadata        1.6.0            py37hc8dfbb8_0    conda-forge',\n",
       " 'importlib_metadata        1.6.0                         0    conda-forge',\n",
       " 'ipykernel                 5.2.1            py37h43977f1_0    conda-forge',\n",
       " 'ipython                   7.14.0           py37hc8dfbb8_0    conda-forge',\n",
       " 'ipython_genutils          0.2.0                      py_1    conda-forge',\n",
       " 'isort                     4.3.21                   pypi_0    pypi',\n",
       " 'itsdangerous              1.1.0                    pypi_0    pypi',\n",
       " 'jedi                      0.17.0           py37hc8dfbb8_0    conda-forge',\n",
       " 'jinja2                    2.11.2             pyh9f0ad1d_0    conda-forge',\n",
       " 'joblib                    0.14.1                   pypi_0    pypi',\n",
       " 'json5                     0.9.0                      py_0    conda-forge',\n",
       " 'jsonschema                3.2.0            py37hc8dfbb8_1    conda-forge',\n",
       " 'jupyter-contrib-core      0.3.3                    pypi_0    pypi',\n",
       " 'jupyter-contrib-nbextensions 0.5.1                    pypi_0    pypi',\n",
       " 'jupyter-highlight-selected-word 0.2.0                    pypi_0    pypi',\n",
       " 'jupyter-latex-envs        1.4.6                    pypi_0    pypi',\n",
       " 'jupyter-nbextensions-configurator 0.4.1                    pypi_0    pypi',\n",
       " 'jupyter_client            6.1.3                      py_0    conda-forge',\n",
       " 'jupyter_core              4.6.3            py37hc8dfbb8_1    conda-forge',\n",
       " 'jupyter_telemetry         0.0.5                      py_0    conda-forge',\n",
       " 'jupyterhub                1.1.0                    py37_2    conda-forge',\n",
       " 'jupyterhub-base           1.1.0                    py37_2    conda-forge',\n",
       " 'jupyterlab                2.1.1                      py_0    conda-forge',\n",
       " 'jupyterlab_server         1.1.1                      py_0    conda-forge',\n",
       " 'jupyterthemes             0.20.0                   pypi_0    pypi',\n",
       " 'keras                     2.3.1                    pypi_0    pypi',\n",
       " 'keras-applications        1.0.8                    pypi_0    pypi',\n",
       " 'keras-preprocessing       1.1.2                    pypi_0    pypi',\n",
       " 'kiwisolver                1.2.0                    pypi_0    pypi',\n",
       " 'krb5                      1.17.1               h2fd8d38_0    conda-forge',\n",
       " 'lazy-object-proxy         1.4.3                    pypi_0    pypi',\n",
       " 'ld_impl_linux-64          2.34                 h53a641e_0    conda-forge',\n",
       " 'lesscpy                   0.14.0                   pypi_0    pypi',\n",
       " 'libcurl                   7.69.1               hf7181ac_0    conda-forge',\n",
       " 'libedit                   3.1.20170329      hf8c457e_1001    conda-forge',\n",
       " 'libffi                    3.2.1             he1b5a44_1007    conda-forge',\n",
       " 'libgcc-ng                 9.2.0                h24d8f2e_2    conda-forge',\n",
       " 'libgomp                   9.2.0                h24d8f2e_2    conda-forge',\n",
       " 'libsodium                 1.0.17               h516909a_0    conda-forge',\n",
       " 'libssh2                   1.8.2                h22169c7_2    conda-forge',\n",
       " 'libstdcxx-ng              9.2.0                hdf63c60_2    conda-forge',\n",
       " 'libuv                     1.34.0               h516909a_0    conda-forge',\n",
       " 'lxml                      4.5.0                    pypi_0    pypi',\n",
       " 'mako                      1.1.0                      py_0    conda-forge',\n",
       " 'markdown                  3.2.2                    pypi_0    pypi',\n",
       " 'markupsafe                1.1.1            py37h8f50634_1    conda-forge',\n",
       " 'matplotlib                3.2.1                    pypi_0    pypi',\n",
       " 'mccabe                    0.6.1                    pypi_0    pypi',\n",
       " 'mistune                   0.8.4           py37h8f50634_1001    conda-forge',\n",
       " 'more-itertools            8.2.0                    pypi_0    pypi',\n",
       " 'mpld3                     0.3                      pypi_0    pypi',\n",
       " 'msgpack                   1.0.0                    pypi_0    pypi',\n",
       " 'nbconvert                 5.6.1            py37hc8dfbb8_1    conda-forge',\n",
       " 'nbformat                  5.0.6                      py_0    conda-forge',\n",
       " 'ncurses                   6.1               hf484d3e_1002    conda-forge',\n",
       " 'networkx                  2.4                      pypi_0    pypi',\n",
       " 'nibabel                   3.1.0                    pypi_0    pypi',\n",
       " 'nilearn                   0.5.0                    pypi_0    pypi',\n",
       " 'nodejs                    13.13.0              hf5d1a2b_0    conda-forge',\n",
       " 'notebook                  6.0.3                    py37_0    conda-forge',\n",
       " 'numpy                     1.18.4                   pypi_0    pypi',\n",
       " 'oauthlib                  3.0.1                      py_0    conda-forge',\n",
       " 'openssl                   1.1.1g               h516909a_0    conda-forge',\n",
       " 'packaging                 20.3                     pypi_0    pypi',\n",
       " 'pamela                    1.0.0                      py_0    conda-forge',\n",
       " 'pandas                    1.0.3                    pypi_0    pypi',\n",
       " 'pandoc                    2.9.2.1                       0    conda-forge',\n",
       " 'pandocfilters             1.4.2                      py_1    conda-forge',\n",
       " 'parso                     0.7.0              pyh9f0ad1d_0    conda-forge',\n",
       " 'patsy                     0.5.1                    pypi_0    pypi',\n",
       " 'pexpect                   4.8.0            py37hc8dfbb8_1    conda-forge',\n",
       " 'pickleshare               0.7.5           py37hc8dfbb8_1001    conda-forge',\n",
       " 'pillow                    7.1.2                    pypi_0    pypi',\n",
       " 'pip                       20.1               pyh9f0ad1d_0    conda-forge',\n",
       " 'pixiedust                 1.1.18                   pypi_0    pypi',\n",
       " 'plotly                    4.7.1                    pypi_0    pypi',\n",
       " 'pluggy                    0.13.1                   pypi_0    pypi',\n",
       " 'ply                       3.11                     pypi_0    pypi',\n",
       " 'prettytable               0.7.2                    pypi_0    pypi',\n",
       " 'progressbar2              3.51.3                   pypi_0    pypi',\n",
       " 'prometheus_client         0.7.1                      py_0    conda-forge',\n",
       " 'prompt-toolkit            3.0.5                      py_0    conda-forge',\n",
       " 'psutil                    5.7.0                    pypi_0    pypi',\n",
       " 'ptyprocess                0.6.0                   py_1001    conda-forge',\n",
       " 'py                        1.8.1                    pypi_0    pypi',\n",
       " 'pyaml                     20.4.0                   pypi_0    pypi',\n",
       " 'pycosat                   0.6.3           py37h8f50634_1004    conda-forge',\n",
       " 'pycparser                 2.20                       py_0    conda-forge',\n",
       " 'pycurl                    7.43.0.5         py37h16ce93b_0    conda-forge',\n",
       " 'pygments                  2.6.1                      py_0    conda-forge',\n",
       " 'pyjwt                     1.7.1                      py_0    conda-forge',\n",
       " 'pylint                    2.5.2                    pypi_0    pypi',\n",
       " 'pymodm                    0.4.1                    pypi_0    pypi',\n",
       " 'pymongo                   3.10.1                   pypi_0    pypi',\n",
       " 'pyopenssl                 19.1.0                     py_1    conda-forge',\n",
       " 'pyparsing                 2.4.7                    pypi_0    pypi',\n",
       " 'pyrsistent                0.16.0           py37h8f50634_0    conda-forge',\n",
       " 'pysocks                   1.7.1            py37hc8dfbb8_1    conda-forge',\n",
       " 'pytest                    5.4.2                    pypi_0    pypi',\n",
       " 'python                    3.7.6           h8356626_5_cpython    conda-forge',\n",
       " 'python-dateutil           2.8.1                      py_0    conda-forge',\n",
       " 'python-editor             1.0.4                      py_0    conda-forge',\n",
       " 'python-json-logger        0.1.11                     py_0    conda-forge',\n",
       " 'python-utils              2.4.0                    pypi_0    pypi',\n",
       " 'python_abi                3.7                     1_cp37m    conda-forge',\n",
       " 'pytz                      2020.1                   pypi_0    pypi',\n",
       " 'pywavelets                1.1.1                    pypi_0    pypi',\n",
       " 'pyyaml                    5.3.1                    pypi_0    pypi',\n",
       " 'pyzmq                     19.0.0           py37hac76be4_1    conda-forge',\n",
       " 'readline                  8.0                  hf8c457e_0    conda-forge',\n",
       " 'requests                  2.23.0             pyh8c360ce_2    conda-forge',\n",
       " 'retrying                  1.3.3                    pypi_0    pypi',\n",
       " 'ruamel.yaml               0.16.6           py37h8f50634_1    conda-forge',\n",
       " 'ruamel.yaml.clib          0.2.0            py37h8f50634_1    conda-forge',\n",
       " 'ruamel_yaml               0.15.80         py37h8f50634_1001    conda-forge',\n",
       " 'scikit-image              0.17.2                   pypi_0    pypi',\n",
       " 'scikit-learn              0.22                     pypi_0    pypi',\n",
       " 'scikit-learn-extra        0.1.0b2                  pypi_0    pypi',\n",
       " 'scikit-optimize           0.7.4                    pypi_0    pypi',\n",
       " 'scipy                     1.2.0                    pypi_0    pypi',\n",
       " 'seaborn                   0.10.1                   pypi_0    pypi',\n",
       " 'send2trash                1.5.0                      py_0    conda-forge',\n",
       " 'setuptools                46.3.0                   pypi_0    pypi',\n",
       " 'six                       1.14.0                     py_1    conda-forge',\n",
       " 'sortedcontainers          2.1.0                    pypi_0    pypi',\n",
       " 'sqlalchemy                1.3.16           py37h8f50634_0    conda-forge',\n",
       " 'sqlite                    3.30.1               hcee41ef_0    conda-forge',\n",
       " 'statsmodels               0.11.1                   pypi_0    pypi',\n",
       " 'tblib                     1.6.0                    pypi_0    pypi',\n",
       " 'terminado                 0.8.3            py37hc8dfbb8_1    conda-forge',\n",
       " 'testpath                  0.4.4                      py_0    conda-forge',\n",
       " 'tifffile                  2020.5.11                pypi_0    pypi',\n",
       " 'tini                      0.18.0            h14c3975_1001    conda-forge',\n",
       " 'tk                        8.6.10               hed695b0_0    conda-forge',\n",
       " 'toml                      0.10.1                   pypi_0    pypi',\n",
       " 'toolz                     0.10.0                   pypi_0    pypi',\n",
       " 'tornado                   6.0.4            py37h8f50634_1    conda-forge',\n",
       " 'tqdm                      4.45.0             pyh9f0ad1d_1    conda-forge',\n",
       " 'traitlets                 4.3.3            py37hc8dfbb8_1    conda-forge',\n",
       " 'typed-ast                 1.4.1                    pypi_0    pypi',\n",
       " 'urllib3                   1.25.9                     py_0    conda-forge',\n",
       " 'utils                     1.0.1                    pypi_0    pypi',\n",
       " 'wcwidth                   0.1.9              pyh9f0ad1d_0    conda-forge',\n",
       " 'webencodings              0.5.1                      py_1    conda-forge',\n",
       " 'werkzeug                  1.0.1                    pypi_0    pypi',\n",
       " 'wheel                     0.34.2                   pypi_0    pypi',\n",
       " 'wrapt                     1.12.1                   pypi_0    pypi',\n",
       " 'xlrd                      1.2.0                    pypi_0    pypi',\n",
       " 'xz                        5.2.5                h516909a_0    conda-forge',\n",
       " 'yaml                      0.2.4                h516909a_0    conda-forge',\n",
       " 'zeromq                    4.3.2                he1b5a44_2    conda-forge',\n",
       " 'zict                      2.0.0                    pypi_0    pypi',\n",
       " 'zipp                      3.1.0                      py_0    conda-forge',\n",
       " 'zlib                      1.2.11            h516909a_1006    conda-forge']"
      ]
     },
     "execution_count": 2,
     "metadata": {},
     "output_type": "execute_result"
    }
   ],
   "source": [
    "%load_ext autoreload\n",
    "%autoreload 2\n",
    "packages = !conda list\n",
    "packages"
   ]
  },
  {
   "cell_type": "code",
   "execution_count": 3,
   "metadata": {
    "ExecuteTime": {
     "end_time": "2020-05-21T13:09:16.390611Z",
     "start_time": "2020-05-21T13:09:15.583339Z"
    }
   },
   "outputs": [
    {
     "name": "stdout",
     "output_type": "stream",
     "text": [
      "/docker/photon_experiments\r\n"
     ]
    }
   ],
   "source": [
    "!pwd\n"
   ]
  },
  {
   "cell_type": "markdown",
   "metadata": {},
   "source": [
    "## Output registry"
   ]
  },
  {
   "cell_type": "code",
   "execution_count": 4,
   "metadata": {
    "ExecuteTime": {
     "end_time": "2020-05-21T13:09:17.227485Z",
     "start_time": "2020-05-21T13:09:16.393596Z"
    }
   },
   "outputs": [
    {
     "name": "stdout",
     "output_type": "stream",
     "text": [
      "['/docker/photon_experiments', '/opt/conda/lib/python37.zip', '/opt/conda/lib/python3.7', '/opt/conda/lib/python3.7/lib-dynload', '', '/opt/conda/lib/python3.7/site-packages', '/opt/conda/lib/python3.7/site-packages/IPython/extensions', '/home/jovyan/.ipython', '/docker/photon']\n",
      "/docker/photon_experiments\n"
     ]
    },
    {
     "data": {
      "text/plain": [
       "'/docker/photon_experiments'"
      ]
     },
     "execution_count": 4,
     "metadata": {},
     "output_type": "execute_result"
    }
   ],
   "source": [
    "from __future__ import print_function\n",
    "import sys, os\n",
    "\n",
    "old__file__ = !pwd\n",
    "__file__ = !cd ../photon ;pwd\n",
    "#__file__ = !pwd\n",
    "__file__ = __file__[0]\n",
    "__file__\n",
    "sys.path.append(__file__)\n",
    "print(sys.path)\n",
    "os.chdir(old__file__[0])\n",
    "!pwd\n",
    "old__file__[0]"
   ]
  },
  {
   "cell_type": "code",
   "execution_count": 5,
   "metadata": {
    "ExecuteTime": {
     "end_time": "2020-05-21T13:09:18.767023Z",
     "start_time": "2020-05-21T13:09:17.230534Z"
    }
   },
   "outputs": [
    {
     "name": "stderr",
     "output_type": "stream",
     "text": [
      "/opt/conda/lib/python3.7/site-packages/sklearn/externals/joblib/__init__.py:15: FutureWarning: sklearn.externals.joblib is deprecated in 0.21 and will be removed in 0.23. Please import this functionality directly from joblib, which can be installed with: pip install joblib. If this warning is raised when loading pickled models, you may need to re-serialize those models with scikit-learn 0.21+.\n",
      "  warnings.warn(msg, category=FutureWarning)\n"
     ]
    }
   ],
   "source": [
    "\n",
    "import seaborn as sns; sns.set()  # for plot styling\n",
    "import numpy as np\n",
    "import pandas as pd\n",
    "from sklearn.model_selection import KFold\n",
    "\n",
    "\n",
    "from photonai.base import Hyperpipe, PipelineElement, Preprocessing, OutputSettings\n",
    "from photonai.optimization import FloatRange, Categorical, IntegerRange\n",
    "from photonai.base.photon_elements import PhotonRegistry\n",
    "#from photonai.base.registry.registry import PhotonRegistry"
   ]
  },
  {
   "cell_type": "code",
   "execution_count": 6,
   "metadata": {
    "ExecuteTime": {
     "end_time": "2020-05-21T13:09:18.857678Z",
     "start_time": "2020-05-21T13:09:18.769732Z"
    }
   },
   "outputs": [],
   "source": [
    "#import pixiedust\n"
   ]
  },
  {
   "cell_type": "code",
   "execution_count": 7,
   "metadata": {
    "ExecuteTime": {
     "end_time": "2020-05-21T13:09:18.948698Z",
     "start_time": "2020-05-21T13:09:18.863093Z"
    }
   },
   "outputs": [],
   "source": [
    "def results_to_df(results):\n",
    "    ll = []\n",
    "    for obj in results:\n",
    "        ll.append([obj.operation,\n",
    "        obj.value,\n",
    "        obj.metric_name])\n",
    "    _results=pd.DataFrame(ll).pivot(index=2, columns=0, values=1)\n",
    "    _results.columns=['Mean','STD']\n",
    "    \n",
    "    return(_results)"
   ]
  },
  {
   "cell_type": "code",
   "execution_count": 8,
   "metadata": {
    "ExecuteTime": {
     "end_time": "2020-05-21T13:09:19.039672Z",
     "start_time": "2020-05-21T13:09:18.952223Z"
    }
   },
   "outputs": [
    {
     "data": {
      "text/plain": [
       "'/docker/custom_elements'"
      ]
     },
     "execution_count": 8,
     "metadata": {},
     "output_type": "execute_result"
    }
   ],
   "source": [
    "__file__ = \"exp1.log\"\n",
    "base_folder = os.path.dirname(os.path.abspath(''))\n",
    "custom_elements_folder = os.path.join(base_folder, 'custom_elements')\n",
    "custom_elements_folder"
   ]
  },
  {
   "cell_type": "code",
   "execution_count": 9,
   "metadata": {
    "ExecuteTime": {
     "end_time": "2020-05-21T13:09:19.144167Z",
     "start_time": "2020-05-21T13:09:19.042844Z"
    }
   },
   "outputs": [
    {
     "data": {
      "text/plain": [
       "(['PhotonCore', 'PhotonCluster', 'PhotonNeuro', 'CustomElements'],\n",
       " ['PhotonCore', 'PhotonCluster', 'PhotonNeuro', 'CustomElements'])"
      ]
     },
     "execution_count": 9,
     "metadata": {},
     "output_type": "execute_result"
    }
   ],
   "source": [
    "registry = PhotonRegistry(custom_elements_folder=custom_elements_folder)\n",
    "registry.activate()\n",
    "registry.PHOTON_REGISTRIES,PhotonRegistry.PHOTON_REGISTRIES"
   ]
  },
  {
   "cell_type": "code",
   "execution_count": 10,
   "metadata": {
    "ExecuteTime": {
     "end_time": "2020-05-21T13:09:19.302726Z",
     "start_time": "2020-05-21T13:09:19.147227Z"
    }
   },
   "outputs": [
    {
     "name": "stdout",
     "output_type": "stream",
     "text": [
      "\n",
      "PhotonCore\n",
      "ARDRegression                       sklearn.linear_model.ARDRegression                                          Estimator\n",
      "AdaBoostClassifier                  sklearn.ensemble.AdaBoostClassifier                                         Estimator\n",
      "AdaBoostRegressor                   sklearn.ensemble.AdaBoostRegressor                                          Estimator\n",
      "BaggingClassifier                   sklearn.ensemble.BaggingClassifier                                          Estimator\n",
      "BaggingRegressor                    sklearn.ensemble.BaggingRegressor                                           Estimator\n",
      "BayesianGaussianMixture             sklearn.mixture.BayesianGaussianMixture                                     Estimator\n",
      "BayesianRidge                       sklearn.linear_model.BayesianRidge                                          Estimator\n",
      "BernoulliNB                         sklearn.naive_bayes.BernoulliNB                                             Estimator\n",
      "BernoulliRBM                        sklearn.neural_network.BernoulliRBM                                         Estimator\n",
      "Binarizer                           sklearn.preprocessing.Binarizer                                             Transformer\n",
      "CCA                                 sklearn.cross_decomposition.CCA                                             Transformer\n",
      "ConfounderRemoval                   photonai.modelwrapper.ConfounderRemoval.ConfounderRemoval                   Transformer\n",
      "DecisionTreeClassifier              sklearn.tree.DecisionTreeClassifier                                         Estimator\n",
      "DecisionTreeRegressor               sklearn.tree.DecisionTreeRegressor                                          Estimator\n",
      "DictionaryLearning                  sklearn.decomposition.DictionaryLearning                                    Transformer\n",
      "DummyClassifier                     sklearn.dummy.DummyClassifier                                               Estimator\n",
      "DummyRegressor                      sklearn.dummy.DummyRegressor                                                Estimator\n",
      "ElasticNet                          sklearn.linear_model.ElasticNet                                             Estimator\n",
      "ExtraDecisionTreeClassifier         sklearn.tree.ExtraDecisionTreeClassifier                                    Estimator\n",
      "ExtraDecisionTreeRegressor          sklearn.tree.ExtraDecisionTreeRegressor                                     Estimator\n",
      "ExtraTreesClassifier                sklearn.ensemble.ExtraTreesClassifier                                       Estimator\n",
      "ExtraTreesRegressor                 sklearn.ensemble.ExtraTreesRegressor                                        Estimator\n",
      "FClassifSelectPercentile            photonai.modelwrapper.FeatureSelection.FClassifSelectPercentile             Transformer\n",
      "FRegressionFilterPValue             photonai.modelwrapper.FeatureSelection.FRegressionFilterPValue              Transformer\n",
      "FRegressionSelectPercentile         photonai.modelwrapper.FeatureSelection.FRegressionSelectPercentile          Transformer\n",
      "FactorAnalysis                      sklearn.decomposition.FactorAnalysis                                        Transformer\n",
      "FastICA                             sklearn.decomposition.FastICA                                               Transformer\n",
      "FeatureEncoder                      photonai.modelwrapper.OrdinalEncoder.FeatureEncoder                         Transformer\n",
      "FunctionTransformer                 sklearn.preprocessing.FunctionTransformer                                   Transformer\n",
      "GaussianMixture                     sklearn.mixture.GaussianMixture                                             Estimator\n",
      "GaussianNB                          sklearn.naive_bayes.GaussianNB                                              Estimator\n",
      "GaussianProcessClassifier           sklearn.gaussian_process.GaussianProcessClassifier                          Estimator\n",
      "GaussianProcessRegressor            sklearn.gaussian_process.GaussianProcessRegressor                           Estimator\n",
      "GenericUnivariateSelect             sklearn.feature_selection.GenericUnivariateSelect                           Transformer\n",
      "GradientBoostingClassifier          sklearn.ensemble.GradientBoostingClassifier                                 Estimator\n",
      "GradientBoostingRegressor           sklearn.ensemble.GradientBoostingRegressor                                  Estimator\n",
      "HuberRegressor                      sklearn.linear_model.HuberRegressor                                         Estimator\n",
      "ImbalancedDataTransformer           photonai.modelwrapper.imbalanced_data_transformer.ImbalancedDataTransformer Transformer\n",
      "IncrementalPCA                      sklearn.decomposition.IncrementalPCA                                        Transformer\n",
      "KNeighborsClassifier                sklearn.neighbors.KNeighborsClassifier                                      Estimator\n",
      "KNeighborsRegressor                 sklearn.neighbors.KNeighborsRegressor                                       Estimator\n",
      "KerasBaseClassifier                 photonai.modelwrapper.keras_base_models.KerasBaseClassifier                 Estimator\n",
      "KerasBaseRegression                 photonai.modelwrapper.keras_base_models.KerasBaseRegression                 Estimator\n",
      "KerasDnnClassifier                  photonai.modelwrapper.keras_dnn_classifier.KerasDnnClassifier               Estimator\n",
      "KerasDnnRegressor                   photonai.modelwrapper.keras_dnn_regressor.KerasDnnRegressor                 Estimator\n",
      "KernelCenterer                      sklearn.preprocessing.KernelCenterer                                        Transformer\n",
      "KernelPCA                           sklearn.decomposition.KernelPCA                                             Transformer\n",
      "KernelRidge                         sklearn.kernel_ridge.KernelRidge                                            Estimator\n",
      "LabelEncoder                        photonai.modelwrapper.LabelEncoder.LabelEncoder                             Transformer\n",
      "Lars                                sklearn.linear_model.Lars                                                   Estimator\n",
      "Lasso                               sklearn.linear_model.Lasso                                                  Estimator\n",
      "LassoFeatureSelection               photonai.modelwrapper.FeatureSelection.LassoFeatureSelection                Transformer\n",
      "LassoLars                           sklearn.linear_model.LassoLars                                              Estimator\n",
      "LatentDirichletAllocation           sklearn.decomposition.LatentDirichletAllocation                             Transformer\n",
      "LinearRegression                    sklearn.linear_model.LinearRegression                                       Estimator\n",
      "LinearSVC                           sklearn.svm.LinearSVC                                                       Estimator\n",
      "LinearSVR                           sklearn.svm.LinearSVR                                                       Estimator\n",
      "LogisticRegression                  sklearn.linear_model.LogisticRegression                                     Estimator\n",
      "MLPClassifier                       sklearn.neural_network.MLPClassifier                                        Estimator\n",
      "MLPRegressor                        sklearn.neural_network.MLPRegressor                                         Estimator\n",
      "MaxAbsScaler                        sklearn.preprocessing.MaxAbsScaler                                          Transformer\n",
      "MinMaxScaler                        sklearn.preprocessing.MinMaxScaler                                          Transformer\n",
      "MiniBatchDictionaryLearning         sklearn.decomposition.MiniBatchDictionaryLearning                           Transformer\n",
      "MiniBatchSparsePCA                  sklearn.decomposition.MiniBatchSparsePCA                                    Transformer\n",
      "MultinomialNB                       sklearn.naive_bayes.MultinomialNB                                           Estimator\n",
      "NMF                                 sklearn.decompositcion.NMF                                                  Transformer\n",
      "NearestCentroid                     sklearn.neighbors.NearestCentroid                                           Estimator\n",
      "Normalizer                          sklearn.preprocessing.Normalizer                                            Transformer\n",
      "NuSVC                               sklearn.svm.NuSVC                                                           Estimator\n",
      "NuSVR                               sklearn.svm.NuSVR                                                           Estimator\n",
      "OneClassSVM                         sklearn.svm.OneClassSVM                                                     Estimator\n",
      "PCA                                 sklearn.decomposition.PCA                                                   Transformer\n",
      "PLSCanonical                        sklearn.cross_decomposition.PLSCanonical                                    Transformer\n",
      "PLSRegression                       sklearn.cross_decomposition.PLSRegression                                   Transformer\n",
      "PLSSVD                              sklearn.cross_decomposition.PLSSVD                                          Transformer\n",
      "PassiveAggressiveClassifier         sklearn.linear_model.PassiveAggressiveClassifier                            Estimator\n",
      "PassiveAggressiveRegressor          sklearn.linear_model.PassiveAggressiveRegressor                             Estimator\n",
      "Perceptron                          sklearn.linear_model.Perceptron                                             Estimator\n",
      "PhotonMLPClassifier                 photonai.modelwrapper.PhotonMLPClassifier.PhotonMLPClassifier               Estimator\n",
      "PhotonOneClassSVM                   photonai.modelwrapper.PhotonOneClassSVM.PhotonOneClassSVM                   Estimator\n",
      "PhotonTestXPredictor                photonai.test.processing_tests.results_tests.XPredictor                     Estimator\n",
      "PhotonVotingClassifier              photonai.modelwrapper.Voting.PhotonVotingClassifier                         Estimator\n",
      "PhotonVotingRegressor               photonai.modelwrapper.Voting.PhotonVotingRegressor                          Estimator\n",
      "PolynomialFeatures                  sklearn.preprocessing.PolynomialFeatures                                    Transformer\n",
      "PowerTransformer                    sklearn.preprocessing.PowerTransformer                                      Transformer\n",
      "QuantileTransformer                 sklearn.preprocessing.QuantileTransformer                                   Transformer\n",
      "RANSACRegressor                     sklearn.linear_model.RANSACRegressor                                        Estimator\n",
      "RFE                                 sklearn.feature_selection.RFE                                               Transformer\n",
      "RFECV                               sklearn.feature_selection.RFECV                                             Transformer\n",
      "RadiusNeighborsClassifier           sklearn.neighbors.RadiusNeighborsClassifier                                 Estimator\n",
      "RadiusNeighborsRegressor            sklearn.neighbors.RadiusNeighborsRegressor                                  Estimator\n",
      "RandomForestClassifier              sklearn.ensemble.RandomForestClassifier                                     Estimator\n",
      "RandomForestRegressor               sklearn.ensemble.RandomForestRegressor                                      Estimator\n",
      "RandomTreesEmbedding                sklearn.ensemble.RandomTreesEmbedding                                       Transformer\n",
      "RangeRestrictor                     photonai.modelwrapper.RangeRestrictor.RangeRestrictor                       Estimator\n",
      "Ridge                               sklearn.linear_model.Ridge                                                  Estimator\n",
      "RidgeClassifier                     sklearn.linear_model.RidgeClassifier                                        Estimator\n",
      "RobustScaler                        sklearn.preprocessing.RobustScaler                                          Transformer\n",
      "SGDClassifier                       sklearn.linear_model.SGDClassifier                                          Estimator\n",
      "SGDRegressor                        sklearn.linear_model.SGDRegressor                                           Estimator\n",
      "SVC                                 sklearn.svm.SVC                                                             Estimator\n",
      "SVR                                 sklearn.svm.SVR                                                             Estimator\n",
      "SamplePairingClassification         photonai.modelwrapper.SamplePairing.SamplePairingClassification             Transformer\n",
      "SamplePairingRegression             photonai.modelwrapper.SamplePairing.SamplePairingRegression                 Transformer\n",
      "SelectFdr                           sklearn.feature_selection.SelectFdr                                         Transformer\n",
      "SelectFpr                           sklearn.feature_selection.SelectFpr                                         Transformer\n",
      "SelectFromModel                     sklearn.feature_selection.SelectFromModel                                   Transformer\n",
      "SelectFwe                           sklearn.feature_selection.SelectFwe                                         Transformer\n",
      "SelectKBest                         sklearn.feature_selection.SelectKBest                                       Transformer\n",
      "SelectPercentile                    sklearn.feature_selection.SelectPercentile                                  Transformer\n",
      "SimpleImputer                       sklearn.impute.SimpleImputer                                                Transformer\n",
      "SourceSplitter                      photonai.modelwrapper.source_splitter.SourceSplitter                        Transformer\n",
      "SparseCoder                         sklearn.decomposition.SparseCoder                                           Transformer\n",
      "SparsePCA                           sklearn.decomposition.SparsePCA                                             Transformer\n",
      "StandardScaler                      sklearn.preprocessing.StandardScaler                                        Transformer\n",
      "TheilSenRegressor                   sklearn.linear_model.TheilSenRegressor                                      Estimator\n",
      "TruncatedSVD                        sklearn.decomposition.TruncatedSVD                                          Transformer\n",
      "VarianceThreshold                   sklearn.feature_selection.VarianceThreshold                                 Transformer\n",
      "dict_learning                       sklearn.decomposition.dict_learning                                         Transformer\n",
      "dict_learning_online                sklearn.decomposition.dict_learning_online                                  Transformer\n",
      "fastica                             sklearn.decomposition.fastica                                               Transformer\n",
      "sparse_encode                       sklearn.decomposition.sparse_encode                                         Transformer\n",
      "\n",
      "PhotonCluster\n",
      "KMeans                              sklearn.cluster.KMeans                                                      Estimator\n",
      "KMedoids                            sklearn_extra.cluster.KMedoids                                              Estimator\n",
      "\n",
      "PhotonNeuro\n",
      "BrainAtlas                          photonai.neuro.brain_atlas.BrainAtlas                                       Transformer\n",
      "BrainMask                           photonai.neuro.brain_atlas.BrainMask                                        Transformer\n",
      "PatchImages                         photonai.neuro.nifti_transformations.PatchImages                            Transformer\n",
      "ResampleImages                      photonai.neuro.nifti_transformations.ResampleImages                         Transformer\n",
      "SmoothImages                        photonai.neuro.nifti_transformations.SmoothImages                           Transformer\n"
     ]
    }
   ],
   "source": [
    "registry.activate()\n",
    "registry.list_available_elements()\n",
    "# take off last name"
   ]
  },
  {
   "cell_type": "markdown",
   "metadata": {},
   "source": [
    "## KMedoids iris"
   ]
  },
  {
   "cell_type": "code",
   "execution_count": 11,
   "metadata": {
    "ExecuteTime": {
     "end_time": "2020-05-21T13:09:19.435777Z",
     "start_time": "2020-05-21T13:09:19.305567Z"
    }
   },
   "outputs": [
    {
     "name": "stdout",
     "output_type": "stream",
     "text": [
      "----------------------------------\n",
      "Name: KMedoids\n",
      "Namespace: sklearn_extra.cluster\n",
      "----------------------------------\n",
      "Possible Hyperparameters as derived from constructor:\n",
      "n_clusters                          n_clusters=8                                                               \n",
      "metric                              metric='euclidean'                                                         \n",
      "init                                init='heuristic'                                                           \n",
      "max_iter                            max_iter=300                                                               \n",
      "random_state                        random_state=None                                                          \n",
      "----------------------------------\n"
     ]
    },
    {
     "data": {
      "text/plain": [
       "('KMedoids',\n",
       " 'sklearn_extra.cluster',\n",
       " {'n_clusters': 'n_clusters',\n",
       "  'metric': 'metric',\n",
       "  'init': 'init',\n",
       "  'max_iter': 'max_iter',\n",
       "  'random_state': 'random_state'})"
      ]
     },
     "execution_count": 11,
     "metadata": {},
     "output_type": "execute_result"
    }
   ],
   "source": [
    "registry.info(\"KMedoids\")"
   ]
  },
  {
   "cell_type": "code",
   "execution_count": 12,
   "metadata": {
    "ExecuteTime": {
     "end_time": "2020-05-21T13:10:27.442395Z",
     "start_time": "2020-05-21T13:09:19.438265Z"
    }
   },
   "outputs": [
    {
     "name": "stdout",
     "output_type": "stream",
     "text": [
      "***************************************************************************************************************\n",
      "PHOTON ANALYSIS: batching\n",
      "***************************************************************************************************************\n",
      "\n",
      "***************************************************************************************************************\n",
      "Outer Cross validation Fold 1\n",
      "***************************************************************************************************************\n"
     ]
    },
    {
     "name": "stderr",
     "output_type": "stream",
     "text": [
      "/opt/conda/lib/python3.7/site-packages/skopt/optimizer/optimizer.py:409: UserWarning: The objective has been evaluated at this point before.\n",
      "  warnings.warn(\"The objective has been evaluated \"\n",
      "/opt/conda/lib/python3.7/site-packages/skopt/optimizer/optimizer.py:409: UserWarning: The objective has been evaluated at this point before.\n",
      "  warnings.warn(\"The objective has been evaluated \"\n",
      "/opt/conda/lib/python3.7/site-packages/skopt/optimizer/optimizer.py:409: UserWarning: The objective has been evaluated at this point before.\n",
      "  warnings.warn(\"The objective has been evaluated \"\n",
      "/opt/conda/lib/python3.7/site-packages/skopt/optimizer/optimizer.py:409: UserWarning: The objective has been evaluated at this point before.\n",
      "  warnings.warn(\"The objective has been evaluated \"\n",
      "/opt/conda/lib/python3.7/site-packages/skopt/optimizer/optimizer.py:409: UserWarning: The objective has been evaluated at this point before.\n",
      "  warnings.warn(\"The objective has been evaluated \"\n",
      "/opt/conda/lib/python3.7/site-packages/skopt/optimizer/optimizer.py:409: UserWarning: The objective has been evaluated at this point before.\n",
      "  warnings.warn(\"The objective has been evaluated \"\n",
      "/opt/conda/lib/python3.7/site-packages/skopt/optimizer/optimizer.py:409: UserWarning: The objective has been evaluated at this point before.\n",
      "  warnings.warn(\"The objective has been evaluated \"\n",
      "/opt/conda/lib/python3.7/site-packages/skopt/optimizer/optimizer.py:409: UserWarning: The objective has been evaluated at this point before.\n",
      "  warnings.warn(\"The objective has been evaluated \"\n",
      "/opt/conda/lib/python3.7/site-packages/skopt/optimizer/optimizer.py:409: UserWarning: The objective has been evaluated at this point before.\n",
      "  warnings.warn(\"The objective has been evaluated \"\n"
     ]
    },
    {
     "name": "stdout",
     "output_type": "stream",
     "text": [
      "---------------------------------------------------------------------------------------------------------------\n",
      "BEST_CONFIG \n",
      "---------------------------------------------------------------------------------------------------------------\n",
      "{\n",
      "    \"KMedoids\": [\n",
      "        \"n_clusters=2\"\n",
      "    ]\n",
      "}\n",
      "+--------+-------------------+------------------+\n",
      "| METRIC | PERFORMANCE TRAIN | PERFORMANCE TEST |\n",
      "+--------+-------------------+------------------+\n",
      "|  ARI   |       0.3640      |      1.0000      |\n",
      "|   MI   |       0.4159      |      1.0000      |\n",
      "|  HCV   |       0.3507      |      1.0000      |\n",
      "|   FM   |       0.6440      |      1.0000      |\n",
      "+--------+-------------------+------------------+\n",
      "\n",
      "***************************************************************************************************************\n",
      "Outer Cross validation Fold 2\n",
      "***************************************************************************************************************\n"
     ]
    },
    {
     "name": "stderr",
     "output_type": "stream",
     "text": [
      "/opt/conda/lib/python3.7/site-packages/skopt/optimizer/optimizer.py:409: UserWarning: The objective has been evaluated at this point before.\n",
      "  warnings.warn(\"The objective has been evaluated \"\n",
      "/opt/conda/lib/python3.7/site-packages/skopt/optimizer/optimizer.py:409: UserWarning: The objective has been evaluated at this point before.\n",
      "  warnings.warn(\"The objective has been evaluated \"\n",
      "/opt/conda/lib/python3.7/site-packages/skopt/optimizer/optimizer.py:409: UserWarning: The objective has been evaluated at this point before.\n",
      "  warnings.warn(\"The objective has been evaluated \"\n",
      "/opt/conda/lib/python3.7/site-packages/skopt/optimizer/optimizer.py:409: UserWarning: The objective has been evaluated at this point before.\n",
      "  warnings.warn(\"The objective has been evaluated \"\n",
      "/opt/conda/lib/python3.7/site-packages/skopt/optimizer/optimizer.py:409: UserWarning: The objective has been evaluated at this point before.\n",
      "  warnings.warn(\"The objective has been evaluated \"\n",
      "/opt/conda/lib/python3.7/site-packages/skopt/optimizer/optimizer.py:409: UserWarning: The objective has been evaluated at this point before.\n",
      "  warnings.warn(\"The objective has been evaluated \"\n",
      "/opt/conda/lib/python3.7/site-packages/skopt/optimizer/optimizer.py:409: UserWarning: The objective has been evaluated at this point before.\n",
      "  warnings.warn(\"The objective has been evaluated \"\n",
      "/opt/conda/lib/python3.7/site-packages/skopt/optimizer/optimizer.py:409: UserWarning: The objective has been evaluated at this point before.\n",
      "  warnings.warn(\"The objective has been evaluated \"\n",
      "/opt/conda/lib/python3.7/site-packages/skopt/optimizer/optimizer.py:409: UserWarning: The objective has been evaluated at this point before.\n",
      "  warnings.warn(\"The objective has been evaluated \"\n"
     ]
    },
    {
     "name": "stdout",
     "output_type": "stream",
     "text": [
      "---------------------------------------------------------------------------------------------------------------\n",
      "BEST_CONFIG \n",
      "---------------------------------------------------------------------------------------------------------------\n",
      "{\n",
      "    \"KMedoids\": [\n",
      "        \"n_clusters=2\"\n",
      "    ]\n",
      "}\n",
      "+--------+-------------------+------------------+\n",
      "| METRIC | PERFORMANCE TRAIN | PERFORMANCE TEST |\n",
      "+--------+-------------------+------------------+\n",
      "|  ARI   |       0.4724      |      1.0000      |\n",
      "|   MI   |       0.6420      |      1.0000      |\n",
      "|  HCV   |       0.4940      |      1.0000      |\n",
      "|   FM   |       0.7344      |      1.0000      |\n",
      "+--------+-------------------+------------------+\n",
      "\n",
      "***************************************************************************************************************\n",
      "Outer Cross validation Fold 3\n",
      "***************************************************************************************************************\n"
     ]
    },
    {
     "name": "stderr",
     "output_type": "stream",
     "text": [
      "/opt/conda/lib/python3.7/site-packages/skopt/optimizer/optimizer.py:409: UserWarning: The objective has been evaluated at this point before.\n",
      "  warnings.warn(\"The objective has been evaluated \"\n",
      "/opt/conda/lib/python3.7/site-packages/skopt/optimizer/optimizer.py:409: UserWarning: The objective has been evaluated at this point before.\n",
      "  warnings.warn(\"The objective has been evaluated \"\n",
      "/opt/conda/lib/python3.7/site-packages/skopt/optimizer/optimizer.py:409: UserWarning: The objective has been evaluated at this point before.\n",
      "  warnings.warn(\"The objective has been evaluated \"\n",
      "/opt/conda/lib/python3.7/site-packages/skopt/optimizer/optimizer.py:409: UserWarning: The objective has been evaluated at this point before.\n",
      "  warnings.warn(\"The objective has been evaluated \"\n",
      "/opt/conda/lib/python3.7/site-packages/skopt/optimizer/optimizer.py:409: UserWarning: The objective has been evaluated at this point before.\n",
      "  warnings.warn(\"The objective has been evaluated \"\n",
      "/opt/conda/lib/python3.7/site-packages/skopt/optimizer/optimizer.py:409: UserWarning: The objective has been evaluated at this point before.\n",
      "  warnings.warn(\"The objective has been evaluated \"\n",
      "/opt/conda/lib/python3.7/site-packages/skopt/optimizer/optimizer.py:409: UserWarning: The objective has been evaluated at this point before.\n",
      "  warnings.warn(\"The objective has been evaluated \"\n",
      "/opt/conda/lib/python3.7/site-packages/skopt/optimizer/optimizer.py:409: UserWarning: The objective has been evaluated at this point before.\n",
      "  warnings.warn(\"The objective has been evaluated \"\n"
     ]
    },
    {
     "name": "stdout",
     "output_type": "stream",
     "text": [
      "---------------------------------------------------------------------------------------------------------------\n",
      "BEST_CONFIG \n",
      "---------------------------------------------------------------------------------------------------------------\n",
      "{\n",
      "    \"KMedoids\": [\n",
      "        \"n_clusters=3\"\n",
      "    ]\n",
      "}\n",
      "+--------+-------------------+------------------+\n",
      "| METRIC | PERFORMANCE TRAIN | PERFORMANCE TEST |\n",
      "+--------+-------------------+------------------+\n",
      "|  ARI   |       0.5281      |      0.0000      |\n",
      "|   MI   |       0.6197      |      0.0000      |\n",
      "|  HCV   |       0.6152      |      1.0000      |\n",
      "|   FM   |       0.7112      |      0.9661      |\n",
      "+--------+-------------------+------------------+\n",
      "\n",
      "***************************************************************************************************************\n",
      "Outer Cross validation Fold 4\n",
      "***************************************************************************************************************\n"
     ]
    },
    {
     "name": "stderr",
     "output_type": "stream",
     "text": [
      "/opt/conda/lib/python3.7/site-packages/skopt/optimizer/optimizer.py:409: UserWarning: The objective has been evaluated at this point before.\n",
      "  warnings.warn(\"The objective has been evaluated \"\n",
      "/opt/conda/lib/python3.7/site-packages/skopt/optimizer/optimizer.py:409: UserWarning: The objective has been evaluated at this point before.\n",
      "  warnings.warn(\"The objective has been evaluated \"\n",
      "/opt/conda/lib/python3.7/site-packages/skopt/optimizer/optimizer.py:409: UserWarning: The objective has been evaluated at this point before.\n",
      "  warnings.warn(\"The objective has been evaluated \"\n",
      "/opt/conda/lib/python3.7/site-packages/skopt/optimizer/optimizer.py:409: UserWarning: The objective has been evaluated at this point before.\n",
      "  warnings.warn(\"The objective has been evaluated \"\n",
      "/opt/conda/lib/python3.7/site-packages/skopt/optimizer/optimizer.py:409: UserWarning: The objective has been evaluated at this point before.\n",
      "  warnings.warn(\"The objective has been evaluated \"\n",
      "/opt/conda/lib/python3.7/site-packages/skopt/optimizer/optimizer.py:409: UserWarning: The objective has been evaluated at this point before.\n",
      "  warnings.warn(\"The objective has been evaluated \"\n",
      "/opt/conda/lib/python3.7/site-packages/skopt/optimizer/optimizer.py:409: UserWarning: The objective has been evaluated at this point before.\n",
      "  warnings.warn(\"The objective has been evaluated \"\n",
      "/opt/conda/lib/python3.7/site-packages/skopt/optimizer/optimizer.py:409: UserWarning: The objective has been evaluated at this point before.\n",
      "  warnings.warn(\"The objective has been evaluated \"\n",
      "/opt/conda/lib/python3.7/site-packages/skopt/optimizer/optimizer.py:409: UserWarning: The objective has been evaluated at this point before.\n",
      "  warnings.warn(\"The objective has been evaluated \"\n",
      "/opt/conda/lib/python3.7/site-packages/skopt/optimizer/optimizer.py:409: UserWarning: The objective has been evaluated at this point before.\n",
      "  warnings.warn(\"The objective has been evaluated \"\n"
     ]
    },
    {
     "name": "stdout",
     "output_type": "stream",
     "text": [
      "---------------------------------------------------------------------------------------------------------------\n",
      "BEST_CONFIG \n",
      "---------------------------------------------------------------------------------------------------------------\n",
      "{\n",
      "    \"KMedoids\": [\n",
      "        \"n_clusters=2\"\n",
      "    ]\n",
      "}\n",
      "+--------+-------------------+------------------+\n",
      "| METRIC | PERFORMANCE TRAIN | PERFORMANCE TEST |\n",
      "+--------+-------------------+------------------+\n",
      "|  ARI   |       0.6659      |      0.0659      |\n",
      "|   MI   |       0.7710      |      0.0433      |\n",
      "|  HCV   |       0.6303      |      0.0594      |\n",
      "|   FM   |       0.8187      |      0.7317      |\n",
      "+--------+-------------------+------------------+\n",
      "\n",
      "***************************************************************************************************************\n",
      "Outer Cross validation Fold 5\n",
      "***************************************************************************************************************\n"
     ]
    },
    {
     "name": "stderr",
     "output_type": "stream",
     "text": [
      "/opt/conda/lib/python3.7/site-packages/skopt/optimizer/optimizer.py:409: UserWarning: The objective has been evaluated at this point before.\n",
      "  warnings.warn(\"The objective has been evaluated \"\n",
      "/opt/conda/lib/python3.7/site-packages/skopt/optimizer/optimizer.py:409: UserWarning: The objective has been evaluated at this point before.\n",
      "  warnings.warn(\"The objective has been evaluated \"\n",
      "/opt/conda/lib/python3.7/site-packages/skopt/optimizer/optimizer.py:409: UserWarning: The objective has been evaluated at this point before.\n",
      "  warnings.warn(\"The objective has been evaluated \"\n",
      "/opt/conda/lib/python3.7/site-packages/skopt/optimizer/optimizer.py:409: UserWarning: The objective has been evaluated at this point before.\n",
      "  warnings.warn(\"The objective has been evaluated \"\n",
      "/opt/conda/lib/python3.7/site-packages/skopt/optimizer/optimizer.py:409: UserWarning: The objective has been evaluated at this point before.\n",
      "  warnings.warn(\"The objective has been evaluated \"\n",
      "/opt/conda/lib/python3.7/site-packages/skopt/optimizer/optimizer.py:409: UserWarning: The objective has been evaluated at this point before.\n",
      "  warnings.warn(\"The objective has been evaluated \"\n",
      "/opt/conda/lib/python3.7/site-packages/skopt/optimizer/optimizer.py:409: UserWarning: The objective has been evaluated at this point before.\n",
      "  warnings.warn(\"The objective has been evaluated \"\n",
      "/opt/conda/lib/python3.7/site-packages/skopt/optimizer/optimizer.py:409: UserWarning: The objective has been evaluated at this point before.\n",
      "  warnings.warn(\"The objective has been evaluated \"\n",
      "/opt/conda/lib/python3.7/site-packages/skopt/optimizer/optimizer.py:409: UserWarning: The objective has been evaluated at this point before.\n",
      "  warnings.warn(\"The objective has been evaluated \"\n",
      "/opt/conda/lib/python3.7/site-packages/skopt/optimizer/optimizer.py:409: UserWarning: The objective has been evaluated at this point before.\n",
      "  warnings.warn(\"The objective has been evaluated \"\n"
     ]
    },
    {
     "name": "stdout",
     "output_type": "stream",
     "text": [
      "---------------------------------------------------------------------------------------------------------------\n",
      "BEST_CONFIG \n",
      "---------------------------------------------------------------------------------------------------------------\n",
      "{\n",
      "    \"KMedoids\": [\n",
      "        \"n_clusters=2\"\n",
      "    ]\n",
      "}\n",
      "+--------+-------------------+------------------+\n",
      "| METRIC | PERFORMANCE TRAIN | PERFORMANCE TEST |\n",
      "+--------+-------------------+------------------+\n",
      "|  ARI   |       0.7213      |      1.0000      |\n",
      "|   MI   |       0.7935      |      1.0000      |\n",
      "|  HCV   |       0.6606      |      1.0000      |\n",
      "|   FM   |       0.8516      |      1.0000      |\n",
      "+--------+-------------------+------------------+\n",
      "\n",
      "===============================================================================================================\n",
      "OVERALL BEST CONFIGURATION\n",
      "===============================================================================================================\n",
      "{\n",
      "    \"KMedoids\": [\n",
      "        \"n_clusters=2\"\n",
      "    ]\n",
      "}\n"
     ]
    },
    {
     "name": "stderr",
     "output_type": "stream",
     "text": [
      "/docker/photon/photonai/processing/results_handler.py:699: RuntimeWarning: invalid value encountered in double_scalars\n",
      "  if pct / total >= 1:\n"
     ]
    },
    {
     "name": "stdout",
     "output_type": "stream",
     "text": [
      "\n",
      "Analysis batching done in 0:01:06.747409\n",
      "Your results are stored in ./tmp/batching_results_2020-05-21_13-09-19\n",
      "***************************************************************************************************************\n",
      "PHOTON 1.0.0b - www.photon-ai.com \n"
     ]
    }
   ],
   "source": [
    "#import pixiedust\n",
    "#%%pixie_debugger\n",
    "\n",
    "\"\"\"\n",
    "Example script for KMedoids hopt\n",
    "\"\"\"\n",
    "X, y = data_X, data_y\n",
    "# DESIGN YOUR PIPELINE\n",
    "settings = OutputSettings(project_folder='./tmp/')\n",
    "\n",
    "my_pipe = Hyperpipe('batching',\n",
    "                    optimizer='sk_opt',\n",
    "#                    optimizer_params={'n_configurations': 25},\n",
    "                    metrics=['ARI', 'MI', 'HCV', 'FM'],\n",
    "                    best_config_metric='ARI',\n",
    "                    outer_cv=KFold(n_splits=5),\n",
    "                    inner_cv=KFold(n_splits=10),\n",
    "                    verbosity=0,\n",
    "                    output_settings=settings)\n",
    "\n",
    "\n",
    "my_pipe += PipelineElement('KMedoids', hyperparameters={\n",
    "                                                    'n_clusters': IntegerRange(2, 8),\n",
    "                                                    },random_state=777)\n",
    "\n",
    "# NOW TRAIN YOUR PIPELINE\n",
    "my_pipe.fit(X, y)\n",
    "\n",
    "debug = True\n",
    "\n"
   ]
  },
  {
   "cell_type": "code",
   "execution_count": 13,
   "metadata": {
    "ExecuteTime": {
     "end_time": "2020-05-21T13:10:28.066866Z",
     "start_time": "2020-05-21T13:10:27.445191Z"
    }
   },
   "outputs": [
    {
     "data": {
      "image/png": "[encoded data removed]",
      "text/plain": [
       "<Figure size 576x576 with 1 Axes>"
      ]
     },
     "metadata": {},
     "output_type": "display_data"
    }
   ],
   "source": [
    "lab= my_pipe.predict(X)\n",
    "colors = ['red','green','blue','purple']\n",
    "\n",
    "fig = plt.figure(figsize=(8,8))\n",
    "\n",
    "plt.scatter(X[:, 0], X[:, 1], s=50, c=lab\n",
    "            ,cmap=matplotlib.colors.ListedColormap(colors) );\n"
   ]
  },
  {
   "cell_type": "code",
   "execution_count": 14,
   "metadata": {
    "ExecuteTime": {
     "end_time": "2020-05-21T13:10:28.169689Z",
     "start_time": "2020-05-21T13:10:28.070110Z"
    }
   },
   "outputs": [
    {
     "data": {
      "text/html": [
       "<div>\n",
       "<style scoped>\n",
       "    .dataframe tbody tr th:only-of-type {\n",
       "        vertical-align: middle;\n",
       "    }\n",
       "\n",
       "    .dataframe tbody tr th {\n",
       "        vertical-align: top;\n",
       "    }\n",
       "\n",
       "    .dataframe thead th {\n",
       "        text-align: right;\n",
       "    }\n",
       "</style>\n",
       "<table border=\"1\" class=\"dataframe\">\n",
       "  <thead>\n",
       "    <tr style=\"text-align: right;\">\n",
       "      <th></th>\n",
       "      <th>n_clusters</th>\n",
       "      <th>k</th>\n",
       "    </tr>\n",
       "  </thead>\n",
       "  <tbody>\n",
       "    <tr>\n",
       "      <th>0</th>\n",
       "      <td>KMedoids__n_clusters</td>\n",
       "      <td>2</td>\n",
       "    </tr>\n",
       "  </tbody>\n",
       "</table>\n",
       "</div>"
      ],
      "text/plain": [
       "             n_clusters  k\n",
       "0  KMedoids__n_clusters  2"
      ]
     },
     "execution_count": 14,
     "metadata": {},
     "output_type": "execute_result"
    }
   ],
   "source": [
    "pd.DataFrame(my_pipe.best_config.items(),columns=['n_clusters', 'k'])"
   ]
  },
  {
   "cell_type": "code",
   "execution_count": 15,
   "metadata": {
    "ExecuteTime": {
     "end_time": "2020-05-21T13:10:28.279626Z",
     "start_time": "2020-05-21T13:10:28.172699Z"
    }
   },
   "outputs": [
    {
     "data": {
      "text/html": [
       "<div>\n",
       "<style scoped>\n",
       "    .dataframe tbody tr th:only-of-type {\n",
       "        vertical-align: middle;\n",
       "    }\n",
       "\n",
       "    .dataframe tbody tr th {\n",
       "        vertical-align: top;\n",
       "    }\n",
       "\n",
       "    .dataframe thead th {\n",
       "        text-align: right;\n",
       "    }\n",
       "</style>\n",
       "<table border=\"1\" class=\"dataframe\">\n",
       "  <thead>\n",
       "    <tr style=\"text-align: right;\">\n",
       "      <th></th>\n",
       "      <th>Mean</th>\n",
       "      <th>STD</th>\n",
       "    </tr>\n",
       "    <tr>\n",
       "      <th>2</th>\n",
       "      <th></th>\n",
       "      <th></th>\n",
       "    </tr>\n",
       "  </thead>\n",
       "  <tbody>\n",
       "    <tr>\n",
       "      <th>ARI</th>\n",
       "      <td>0.550345</td>\n",
       "      <td>0.129531</td>\n",
       "    </tr>\n",
       "    <tr>\n",
       "      <th>FM</th>\n",
       "      <td>0.751968</td>\n",
       "      <td>0.074877</td>\n",
       "    </tr>\n",
       "    <tr>\n",
       "      <th>HCV</th>\n",
       "      <td>0.550153</td>\n",
       "      <td>0.114696</td>\n",
       "    </tr>\n",
       "    <tr>\n",
       "      <th>MI</th>\n",
       "      <td>0.648437</td>\n",
       "      <td>0.134921</td>\n",
       "    </tr>\n",
       "  </tbody>\n",
       "</table>\n",
       "</div>"
      ],
      "text/plain": [
       "         Mean       STD\n",
       "2                      \n",
       "ARI  0.550345  0.129531\n",
       "FM   0.751968  0.074877\n",
       "HCV  0.550153  0.114696\n",
       "MI   0.648437  0.134921"
      ]
     },
     "execution_count": 15,
     "metadata": {},
     "output_type": "execute_result"
    }
   ],
   "source": [
    "train=results_to_df(my_pipe.results.metrics_train)\n",
    "train"
   ]
  },
  {
   "cell_type": "code",
   "execution_count": 16,
   "metadata": {
    "ExecuteTime": {
     "end_time": "2020-05-21T13:10:28.387293Z",
     "start_time": "2020-05-21T13:10:28.282992Z"
    }
   },
   "outputs": [
    {
     "data": {
      "text/html": [
       "<div>\n",
       "<style scoped>\n",
       "    .dataframe tbody tr th:only-of-type {\n",
       "        vertical-align: middle;\n",
       "    }\n",
       "\n",
       "    .dataframe tbody tr th {\n",
       "        vertical-align: top;\n",
       "    }\n",
       "\n",
       "    .dataframe thead th {\n",
       "        text-align: right;\n",
       "    }\n",
       "</style>\n",
       "<table border=\"1\" class=\"dataframe\">\n",
       "  <thead>\n",
       "    <tr style=\"text-align: right;\">\n",
       "      <th></th>\n",
       "      <th>Mean</th>\n",
       "      <th>STD</th>\n",
       "    </tr>\n",
       "    <tr>\n",
       "      <th>2</th>\n",
       "      <th></th>\n",
       "      <th></th>\n",
       "    </tr>\n",
       "  </thead>\n",
       "  <tbody>\n",
       "    <tr>\n",
       "      <th>ARI</th>\n",
       "      <td>0.613180</td>\n",
       "      <td>0.474214</td>\n",
       "    </tr>\n",
       "    <tr>\n",
       "      <th>FM</th>\n",
       "      <td>0.939551</td>\n",
       "      <td>0.104770</td>\n",
       "    </tr>\n",
       "    <tr>\n",
       "      <th>HCV</th>\n",
       "      <td>0.811872</td>\n",
       "      <td>0.376256</td>\n",
       "    </tr>\n",
       "    <tr>\n",
       "      <th>MI</th>\n",
       "      <td>0.608653</td>\n",
       "      <td>0.479495</td>\n",
       "    </tr>\n",
       "  </tbody>\n",
       "</table>\n",
       "</div>"
      ],
      "text/plain": [
       "         Mean       STD\n",
       "2                      \n",
       "ARI  0.613180  0.474214\n",
       "FM   0.939551  0.104770\n",
       "HCV  0.811872  0.376256\n",
       "MI   0.608653  0.479495"
      ]
     },
     "execution_count": 16,
     "metadata": {},
     "output_type": "execute_result"
    }
   ],
   "source": [
    "test = results_to_df(my_pipe.results.metrics_test)\n",
    "test"
   ]
  },
  {
   "cell_type": "code",
   "execution_count": 17,
   "metadata": {
    "ExecuteTime": {
     "end_time": "2020-05-21T13:10:28.494273Z",
     "start_time": "2020-05-21T13:10:28.390265Z"
    }
   },
   "outputs": [
    {
     "data": {
      "text/html": [
       "<div>\n",
       "<style scoped>\n",
       "    .dataframe tbody tr th:only-of-type {\n",
       "        vertical-align: middle;\n",
       "    }\n",
       "\n",
       "    .dataframe tbody tr th {\n",
       "        vertical-align: top;\n",
       "    }\n",
       "\n",
       "    .dataframe thead th {\n",
       "        text-align: right;\n",
       "    }\n",
       "</style>\n",
       "<table border=\"1\" class=\"dataframe\">\n",
       "  <thead>\n",
       "    <tr style=\"text-align: right;\">\n",
       "      <th></th>\n",
       "      <th>Mean</th>\n",
       "      <th>STD</th>\n",
       "    </tr>\n",
       "    <tr>\n",
       "      <th>2</th>\n",
       "      <th></th>\n",
       "      <th></th>\n",
       "    </tr>\n",
       "  </thead>\n",
       "  <tbody>\n",
       "    <tr>\n",
       "      <th>ARI</th>\n",
       "      <td>0.062835</td>\n",
       "      <td>0.344684</td>\n",
       "    </tr>\n",
       "    <tr>\n",
       "      <th>FM</th>\n",
       "      <td>0.187583</td>\n",
       "      <td>0.029893</td>\n",
       "    </tr>\n",
       "    <tr>\n",
       "      <th>HCV</th>\n",
       "      <td>0.261719</td>\n",
       "      <td>0.261560</td>\n",
       "    </tr>\n",
       "    <tr>\n",
       "      <th>MI</th>\n",
       "      <td>-0.039784</td>\n",
       "      <td>0.344574</td>\n",
       "    </tr>\n",
       "  </tbody>\n",
       "</table>\n",
       "</div>"
      ],
      "text/plain": [
       "         Mean       STD\n",
       "2                      \n",
       "ARI  0.062835  0.344684\n",
       "FM   0.187583  0.029893\n",
       "HCV  0.261719  0.261560\n",
       "MI  -0.039784  0.344574"
      ]
     },
     "execution_count": 17,
     "metadata": {},
     "output_type": "execute_result"
    }
   ],
   "source": [
    "test-train"
   ]
  },
  {
   "cell_type": "markdown",
   "metadata": {},
   "source": [
    "## Show kmeans iris"
   ]
  },
  {
   "cell_type": "code",
   "execution_count": 18,
   "metadata": {
    "ExecuteTime": {
     "end_time": "2020-05-21T13:10:28.640233Z",
     "start_time": "2020-05-21T13:10:28.496955Z"
    }
   },
   "outputs": [
    {
     "name": "stdout",
     "output_type": "stream",
     "text": [
      "----------------------------------\n",
      "Name: KMeans\n",
      "Namespace: sklearn.cluster\n",
      "----------------------------------\n",
      "Possible Hyperparameters as derived from constructor:\n",
      "n_clusters                          n_clusters=8                                                               \n",
      "init                                init='k-means++'                                                           \n",
      "n_init                              n_init=10                                                                  \n",
      "max_iter                            max_iter=300                                                               \n",
      "tol                                 tol=0.0001                                                                 \n",
      "precompute_distances                precompute_distances='auto'                                                \n",
      "verbose                             verbose=0                                                                  \n",
      "random_state                        random_state=None                                                          \n",
      "copy_x                              copy_x=True                                                                \n",
      "n_jobs                              n_jobs=None                                                                \n",
      "algorithm                           algorithm='auto'                                                           \n",
      "----------------------------------\n"
     ]
    },
    {
     "data": {
      "text/plain": [
       "('KMeans',\n",
       " 'sklearn.cluster',\n",
       " {'n_clusters': 'n_clusters',\n",
       "  'init': 'init',\n",
       "  'n_init': 'n_init',\n",
       "  'max_iter': 'max_iter',\n",
       "  'tol': 'tol',\n",
       "  'precompute_distances': 'precompute_distances',\n",
       "  'verbose': 'verbose',\n",
       "  'random_state': 'random_state',\n",
       "  'copy_x': 'copy_x',\n",
       "  'n_jobs': 'n_jobs',\n",
       "  'algorithm': 'algorithm'})"
      ]
     },
     "execution_count": 18,
     "metadata": {},
     "output_type": "execute_result"
    }
   ],
   "source": [
    "registry.info(\"KMeans\")"
   ]
  },
  {
   "cell_type": "code",
   "execution_count": 19,
   "metadata": {
    "ExecuteTime": {
     "end_time": "2020-05-21T13:12:21.279998Z",
     "start_time": "2020-05-21T13:10:28.642901Z"
    },
    "pixiedust": {
     "displayParams": {}
    }
   },
   "outputs": [
    {
     "name": "stdout",
     "output_type": "stream",
     "text": [
      "***************************************************************************************************************\n",
      "PHOTON ANALYSIS: batching\n",
      "***************************************************************************************************************\n",
      "\n",
      "***************************************************************************************************************\n",
      "Outer Cross validation Fold 1\n",
      "***************************************************************************************************************\n"
     ]
    },
    {
     "name": "stderr",
     "output_type": "stream",
     "text": [
      "/opt/conda/lib/python3.7/site-packages/skopt/optimizer/optimizer.py:409: UserWarning: The objective has been evaluated at this point before.\n",
      "  warnings.warn(\"The objective has been evaluated \"\n",
      "/opt/conda/lib/python3.7/site-packages/skopt/optimizer/optimizer.py:409: UserWarning: The objective has been evaluated at this point before.\n",
      "  warnings.warn(\"The objective has been evaluated \"\n",
      "/opt/conda/lib/python3.7/site-packages/skopt/optimizer/optimizer.py:409: UserWarning: The objective has been evaluated at this point before.\n",
      "  warnings.warn(\"The objective has been evaluated \"\n",
      "/opt/conda/lib/python3.7/site-packages/skopt/optimizer/optimizer.py:409: UserWarning: The objective has been evaluated at this point before.\n",
      "  warnings.warn(\"The objective has been evaluated \"\n",
      "/opt/conda/lib/python3.7/site-packages/skopt/optimizer/optimizer.py:409: UserWarning: The objective has been evaluated at this point before.\n",
      "  warnings.warn(\"The objective has been evaluated \"\n",
      "/opt/conda/lib/python3.7/site-packages/skopt/optimizer/optimizer.py:409: UserWarning: The objective has been evaluated at this point before.\n",
      "  warnings.warn(\"The objective has been evaluated \"\n",
      "/opt/conda/lib/python3.7/site-packages/skopt/optimizer/optimizer.py:409: UserWarning: The objective has been evaluated at this point before.\n",
      "  warnings.warn(\"The objective has been evaluated \"\n",
      "/opt/conda/lib/python3.7/site-packages/skopt/optimizer/optimizer.py:409: UserWarning: The objective has been evaluated at this point before.\n",
      "  warnings.warn(\"The objective has been evaluated \"\n",
      "/opt/conda/lib/python3.7/site-packages/skopt/optimizer/optimizer.py:409: UserWarning: The objective has been evaluated at this point before.\n",
      "  warnings.warn(\"The objective has been evaluated \"\n",
      "/opt/conda/lib/python3.7/site-packages/skopt/optimizer/optimizer.py:409: UserWarning: The objective has been evaluated at this point before.\n",
      "  warnings.warn(\"The objective has been evaluated \"\n"
     ]
    },
    {
     "name": "stdout",
     "output_type": "stream",
     "text": [
      "---------------------------------------------------------------------------------------------------------------\n",
      "BEST_CONFIG \n",
      "---------------------------------------------------------------------------------------------------------------\n",
      "{\n",
      "    \"KMeans\": [\n",
      "        \"n_clusters=2\"\n",
      "    ]\n",
      "}\n",
      "+--------+-------------------+------------------+\n",
      "| METRIC | PERFORMANCE TRAIN | PERFORMANCE TEST |\n",
      "+--------+-------------------+------------------+\n",
      "|  ARI   |       0.3425      |      1.0000      |\n",
      "|   MI   |       0.4970      |      1.0000      |\n",
      "|  HCV   |       0.3737      |      1.0000      |\n",
      "|   FM   |       0.6874      |      1.0000      |\n",
      "+--------+-------------------+------------------+\n",
      "\n",
      "***************************************************************************************************************\n",
      "Outer Cross validation Fold 2\n",
      "***************************************************************************************************************\n"
     ]
    },
    {
     "name": "stderr",
     "output_type": "stream",
     "text": [
      "/opt/conda/lib/python3.7/site-packages/skopt/optimizer/optimizer.py:409: UserWarning: The objective has been evaluated at this point before.\n",
      "  warnings.warn(\"The objective has been evaluated \"\n",
      "/opt/conda/lib/python3.7/site-packages/skopt/optimizer/optimizer.py:409: UserWarning: The objective has been evaluated at this point before.\n",
      "  warnings.warn(\"The objective has been evaluated \"\n",
      "/opt/conda/lib/python3.7/site-packages/skopt/optimizer/optimizer.py:409: UserWarning: The objective has been evaluated at this point before.\n",
      "  warnings.warn(\"The objective has been evaluated \"\n",
      "/opt/conda/lib/python3.7/site-packages/skopt/optimizer/optimizer.py:409: UserWarning: The objective has been evaluated at this point before.\n",
      "  warnings.warn(\"The objective has been evaluated \"\n",
      "/opt/conda/lib/python3.7/site-packages/skopt/optimizer/optimizer.py:409: UserWarning: The objective has been evaluated at this point before.\n",
      "  warnings.warn(\"The objective has been evaluated \"\n",
      "/opt/conda/lib/python3.7/site-packages/skopt/optimizer/optimizer.py:409: UserWarning: The objective has been evaluated at this point before.\n",
      "  warnings.warn(\"The objective has been evaluated \"\n",
      "/opt/conda/lib/python3.7/site-packages/skopt/optimizer/optimizer.py:409: UserWarning: The objective has been evaluated at this point before.\n",
      "  warnings.warn(\"The objective has been evaluated \"\n",
      "/opt/conda/lib/python3.7/site-packages/skopt/optimizer/optimizer.py:409: UserWarning: The objective has been evaluated at this point before.\n",
      "  warnings.warn(\"The objective has been evaluated \"\n",
      "/opt/conda/lib/python3.7/site-packages/skopt/optimizer/optimizer.py:409: UserWarning: The objective has been evaluated at this point before.\n",
      "  warnings.warn(\"The objective has been evaluated \"\n",
      "/opt/conda/lib/python3.7/site-packages/skopt/optimizer/optimizer.py:409: UserWarning: The objective has been evaluated at this point before.\n",
      "  warnings.warn(\"The objective has been evaluated \"\n"
     ]
    },
    {
     "name": "stdout",
     "output_type": "stream",
     "text": [
      "---------------------------------------------------------------------------------------------------------------\n",
      "BEST_CONFIG \n",
      "---------------------------------------------------------------------------------------------------------------\n",
      "{\n",
      "    \"KMeans\": [\n",
      "        \"n_clusters=2\"\n",
      "    ]\n",
      "}\n",
      "+--------+-------------------+------------------+\n",
      "| METRIC | PERFORMANCE TRAIN | PERFORMANCE TEST |\n",
      "+--------+-------------------+------------------+\n",
      "|  ARI   |       0.4654      |      0.8652      |\n",
      "|   MI   |       0.6160      |      0.7998      |\n",
      "|  HCV   |       0.4768      |      0.7895      |\n",
      "|   FM   |       0.7278      |      0.9400      |\n",
      "+--------+-------------------+------------------+\n",
      "\n",
      "***************************************************************************************************************\n",
      "Outer Cross validation Fold 3\n",
      "***************************************************************************************************************\n"
     ]
    },
    {
     "name": "stderr",
     "output_type": "stream",
     "text": [
      "/opt/conda/lib/python3.7/site-packages/skopt/optimizer/optimizer.py:409: UserWarning: The objective has been evaluated at this point before.\n",
      "  warnings.warn(\"The objective has been evaluated \"\n",
      "/opt/conda/lib/python3.7/site-packages/skopt/optimizer/optimizer.py:409: UserWarning: The objective has been evaluated at this point before.\n",
      "  warnings.warn(\"The objective has been evaluated \"\n",
      "/opt/conda/lib/python3.7/site-packages/skopt/optimizer/optimizer.py:409: UserWarning: The objective has been evaluated at this point before.\n",
      "  warnings.warn(\"The objective has been evaluated \"\n",
      "/opt/conda/lib/python3.7/site-packages/skopt/optimizer/optimizer.py:409: UserWarning: The objective has been evaluated at this point before.\n",
      "  warnings.warn(\"The objective has been evaluated \"\n",
      "/opt/conda/lib/python3.7/site-packages/skopt/optimizer/optimizer.py:409: UserWarning: The objective has been evaluated at this point before.\n",
      "  warnings.warn(\"The objective has been evaluated \"\n",
      "/opt/conda/lib/python3.7/site-packages/skopt/optimizer/optimizer.py:409: UserWarning: The objective has been evaluated at this point before.\n",
      "  warnings.warn(\"The objective has been evaluated \"\n",
      "/opt/conda/lib/python3.7/site-packages/skopt/optimizer/optimizer.py:409: UserWarning: The objective has been evaluated at this point before.\n",
      "  warnings.warn(\"The objective has been evaluated \"\n",
      "/opt/conda/lib/python3.7/site-packages/skopt/optimizer/optimizer.py:409: UserWarning: The objective has been evaluated at this point before.\n",
      "  warnings.warn(\"The objective has been evaluated \"\n",
      "/opt/conda/lib/python3.7/site-packages/skopt/optimizer/optimizer.py:409: UserWarning: The objective has been evaluated at this point before.\n",
      "  warnings.warn(\"The objective has been evaluated \"\n",
      "/opt/conda/lib/python3.7/site-packages/skopt/optimizer/optimizer.py:409: UserWarning: The objective has been evaluated at this point before.\n",
      "  warnings.warn(\"The objective has been evaluated \"\n"
     ]
    },
    {
     "name": "stdout",
     "output_type": "stream",
     "text": [
      "---------------------------------------------------------------------------------------------------------------\n",
      "BEST_CONFIG \n",
      "---------------------------------------------------------------------------------------------------------------\n",
      "{\n",
      "    \"KMeans\": [\n",
      "        \"n_clusters=2\"\n",
      "    ]\n",
      "}\n",
      "+--------+-------------------+------------------+\n",
      "| METRIC | PERFORMANCE TRAIN | PERFORMANCE TEST |\n",
      "+--------+-------------------+------------------+\n",
      "|  ARI   |       0.7060      |      0.0000      |\n",
      "|   MI   |       0.7156      |      0.0000      |\n",
      "|  HCV   |       0.5990      |      1.0000      |\n",
      "|   FM   |       0.8411      |      0.9661      |\n",
      "+--------+-------------------+------------------+\n",
      "\n",
      "***************************************************************************************************************\n",
      "Outer Cross validation Fold 4\n",
      "***************************************************************************************************************\n"
     ]
    },
    {
     "name": "stderr",
     "output_type": "stream",
     "text": [
      "/opt/conda/lib/python3.7/site-packages/skopt/optimizer/optimizer.py:409: UserWarning: The objective has been evaluated at this point before.\n",
      "  warnings.warn(\"The objective has been evaluated \"\n",
      "/opt/conda/lib/python3.7/site-packages/skopt/optimizer/optimizer.py:409: UserWarning: The objective has been evaluated at this point before.\n",
      "  warnings.warn(\"The objective has been evaluated \"\n",
      "/opt/conda/lib/python3.7/site-packages/skopt/optimizer/optimizer.py:409: UserWarning: The objective has been evaluated at this point before.\n",
      "  warnings.warn(\"The objective has been evaluated \"\n",
      "/opt/conda/lib/python3.7/site-packages/skopt/optimizer/optimizer.py:409: UserWarning: The objective has been evaluated at this point before.\n",
      "  warnings.warn(\"The objective has been evaluated \"\n",
      "/opt/conda/lib/python3.7/site-packages/skopt/optimizer/optimizer.py:409: UserWarning: The objective has been evaluated at this point before.\n",
      "  warnings.warn(\"The objective has been evaluated \"\n",
      "/opt/conda/lib/python3.7/site-packages/skopt/optimizer/optimizer.py:409: UserWarning: The objective has been evaluated at this point before.\n",
      "  warnings.warn(\"The objective has been evaluated \"\n",
      "/opt/conda/lib/python3.7/site-packages/skopt/optimizer/optimizer.py:409: UserWarning: The objective has been evaluated at this point before.\n",
      "  warnings.warn(\"The objective has been evaluated \"\n",
      "/opt/conda/lib/python3.7/site-packages/skopt/optimizer/optimizer.py:409: UserWarning: The objective has been evaluated at this point before.\n",
      "  warnings.warn(\"The objective has been evaluated \"\n",
      "/opt/conda/lib/python3.7/site-packages/skopt/optimizer/optimizer.py:409: UserWarning: The objective has been evaluated at this point before.\n",
      "  warnings.warn(\"The objective has been evaluated \"\n",
      "/opt/conda/lib/python3.7/site-packages/skopt/optimizer/optimizer.py:409: UserWarning: The objective has been evaluated at this point before.\n",
      "  warnings.warn(\"The objective has been evaluated \"\n"
     ]
    },
    {
     "name": "stdout",
     "output_type": "stream",
     "text": [
      "---------------------------------------------------------------------------------------------------------------\n",
      "BEST_CONFIG \n",
      "---------------------------------------------------------------------------------------------------------------\n",
      "{\n",
      "    \"KMeans\": [\n",
      "        \"n_clusters=2\"\n",
      "    ]\n",
      "}\n",
      "+--------+-------------------+------------------+\n",
      "| METRIC | PERFORMANCE TRAIN | PERFORMANCE TEST |\n",
      "+--------+-------------------+------------------+\n",
      "|  ARI   |       0.6659      |      0.0659      |\n",
      "|   MI   |       0.7710      |      0.0433      |\n",
      "|  HCV   |       0.6303      |      0.0594      |\n",
      "|   FM   |       0.8187      |      0.7317      |\n",
      "+--------+-------------------+------------------+\n",
      "\n",
      "***************************************************************************************************************\n",
      "Outer Cross validation Fold 5\n",
      "***************************************************************************************************************\n"
     ]
    },
    {
     "name": "stderr",
     "output_type": "stream",
     "text": [
      "/opt/conda/lib/python3.7/site-packages/skopt/optimizer/optimizer.py:409: UserWarning: The objective has been evaluated at this point before.\n",
      "  warnings.warn(\"The objective has been evaluated \"\n",
      "/opt/conda/lib/python3.7/site-packages/skopt/optimizer/optimizer.py:409: UserWarning: The objective has been evaluated at this point before.\n",
      "  warnings.warn(\"The objective has been evaluated \"\n",
      "/opt/conda/lib/python3.7/site-packages/skopt/optimizer/optimizer.py:409: UserWarning: The objective has been evaluated at this point before.\n",
      "  warnings.warn(\"The objective has been evaluated \"\n",
      "/opt/conda/lib/python3.7/site-packages/skopt/optimizer/optimizer.py:409: UserWarning: The objective has been evaluated at this point before.\n",
      "  warnings.warn(\"The objective has been evaluated \"\n",
      "/opt/conda/lib/python3.7/site-packages/skopt/optimizer/optimizer.py:409: UserWarning: The objective has been evaluated at this point before.\n",
      "  warnings.warn(\"The objective has been evaluated \"\n",
      "/opt/conda/lib/python3.7/site-packages/skopt/optimizer/optimizer.py:409: UserWarning: The objective has been evaluated at this point before.\n",
      "  warnings.warn(\"The objective has been evaluated \"\n",
      "/opt/conda/lib/python3.7/site-packages/skopt/optimizer/optimizer.py:409: UserWarning: The objective has been evaluated at this point before.\n",
      "  warnings.warn(\"The objective has been evaluated \"\n",
      "/opt/conda/lib/python3.7/site-packages/skopt/optimizer/optimizer.py:409: UserWarning: The objective has been evaluated at this point before.\n",
      "  warnings.warn(\"The objective has been evaluated \"\n",
      "/opt/conda/lib/python3.7/site-packages/skopt/optimizer/optimizer.py:409: UserWarning: The objective has been evaluated at this point before.\n",
      "  warnings.warn(\"The objective has been evaluated \"\n",
      "/opt/conda/lib/python3.7/site-packages/skopt/optimizer/optimizer.py:409: UserWarning: The objective has been evaluated at this point before.\n",
      "  warnings.warn(\"The objective has been evaluated \"\n"
     ]
    },
    {
     "name": "stdout",
     "output_type": "stream",
     "text": [
      "---------------------------------------------------------------------------------------------------------------\n",
      "BEST_CONFIG \n",
      "---------------------------------------------------------------------------------------------------------------\n",
      "{\n",
      "    \"KMeans\": [\n",
      "        \"n_clusters=2\"\n",
      "    ]\n",
      "}\n",
      "+--------+-------------------+------------------+\n",
      "| METRIC | PERFORMANCE TRAIN | PERFORMANCE TEST |\n",
      "+--------+-------------------+------------------+\n",
      "|  ARI   |       0.6989      |      1.0000      |\n",
      "|   MI   |       0.7472      |      1.0000      |\n",
      "|  HCV   |       0.6234      |      1.0000      |\n",
      "|   FM   |       0.8380      |      1.0000      |\n",
      "+--------+-------------------+------------------+\n",
      "\n",
      "===============================================================================================================\n",
      "OVERALL BEST CONFIGURATION\n",
      "===============================================================================================================\n",
      "{\n",
      "    \"KMeans\": [\n",
      "        \"n_clusters=2\"\n",
      "    ]\n",
      "}\n"
     ]
    },
    {
     "name": "stderr",
     "output_type": "stream",
     "text": [
      "/docker/photon/photonai/processing/results_handler.py:699: RuntimeWarning: invalid value encountered in double_scalars\n",
      "  if pct / total >= 1:\n"
     ]
    },
    {
     "name": "stdout",
     "output_type": "stream",
     "text": [
      "\n",
      "Analysis batching done in 0:01:51.360538\n",
      "Your results are stored in ./tmp/batching_results_2020-05-21_13-10-28\n",
      "***************************************************************************************************************\n",
      "PHOTON 1.0.0b - www.photon-ai.com \n"
     ]
    }
   ],
   "source": [
    "#import pixiedust\n",
    "#%%pixie_debugger\n",
    "\n",
    "\"\"\"\n",
    "Example script for kmeans hopt\n",
    "\"\"\"\n",
    "\n",
    "X, y = data_X, data_y\n",
    "# DESIGN YOUR PIPELINE\n",
    "settings = OutputSettings(project_folder='./tmp/')\n",
    "\n",
    "my_pipe = Hyperpipe('batching',\n",
    "                    optimizer='sk_opt',\n",
    "#                    optimizer_params={'n_configurations': 25},\n",
    "                    metrics=['ARI', 'MI', 'HCV', 'FM'],\n",
    "                    best_config_metric='ARI',\n",
    "                    outer_cv=KFold(n_splits=5),\n",
    "                    inner_cv=KFold(n_splits=10),\n",
    "                    verbosity=0,\n",
    "                    output_settings=settings)\n",
    "\n",
    "\n",
    "my_pipe += PipelineElement('KMeans', hyperparameters={\n",
    "                                                    'n_clusters': IntegerRange(2, 8),\n",
    "                                                    },random_state=777)\n",
    "\n",
    "# NOW TRAIN YOUR PIPELINE\n",
    "my_pipe.fit(X, y)\n",
    "\n",
    "debug = True\n",
    "\n",
    "\n"
   ]
  },
  {
   "cell_type": "code",
   "execution_count": 20,
   "metadata": {
    "ExecuteTime": {
     "end_time": "2020-05-21T13:12:21.875800Z",
     "start_time": "2020-05-21T13:12:21.282369Z"
    }
   },
   "outputs": [
    {
     "data": {
      "image/png": "[encoded data removed]",
      "text/plain": [
       "<Figure size 576x576 with 1 Axes>"
      ]
     },
     "metadata": {},
     "output_type": "display_data"
    }
   ],
   "source": [
    "lab= my_pipe.predict(X)\n",
    "colors = ['red','green','blue','purple']\n",
    "\n",
    "fig = plt.figure(figsize=(8,8))\n",
    "\n",
    "plt.scatter(X[:, 0], X[:, 1], s=50, c=lab\n",
    "            ,cmap=matplotlib.colors.ListedColormap(colors) );"
   ]
  },
  {
   "cell_type": "code",
   "execution_count": 21,
   "metadata": {
    "ExecuteTime": {
     "end_time": "2020-05-21T13:12:21.988822Z",
     "start_time": "2020-05-21T13:12:21.878804Z"
    }
   },
   "outputs": [
    {
     "data": {
      "text/html": [
       "<div>\n",
       "<style scoped>\n",
       "    .dataframe tbody tr th:only-of-type {\n",
       "        vertical-align: middle;\n",
       "    }\n",
       "\n",
       "    .dataframe tbody tr th {\n",
       "        vertical-align: top;\n",
       "    }\n",
       "\n",
       "    .dataframe thead th {\n",
       "        text-align: right;\n",
       "    }\n",
       "</style>\n",
       "<table border=\"1\" class=\"dataframe\">\n",
       "  <thead>\n",
       "    <tr style=\"text-align: right;\">\n",
       "      <th></th>\n",
       "      <th>n_clusters</th>\n",
       "      <th>k</th>\n",
       "    </tr>\n",
       "  </thead>\n",
       "  <tbody>\n",
       "    <tr>\n",
       "      <th>0</th>\n",
       "      <td>KMeans__n_clusters</td>\n",
       "      <td>2</td>\n",
       "    </tr>\n",
       "  </tbody>\n",
       "</table>\n",
       "</div>"
      ],
      "text/plain": [
       "           n_clusters  k\n",
       "0  KMeans__n_clusters  2"
      ]
     },
     "execution_count": 21,
     "metadata": {},
     "output_type": "execute_result"
    }
   ],
   "source": [
    "pd.DataFrame(my_pipe.best_config.items(),columns=['n_clusters', 'k'])"
   ]
  },
  {
   "cell_type": "code",
   "execution_count": 22,
   "metadata": {
    "ExecuteTime": {
     "end_time": "2020-05-21T13:12:22.111171Z",
     "start_time": "2020-05-21T13:12:21.995099Z"
    }
   },
   "outputs": [
    {
     "data": {
      "text/html": [
       "<div>\n",
       "<style scoped>\n",
       "    .dataframe tbody tr th:only-of-type {\n",
       "        vertical-align: middle;\n",
       "    }\n",
       "\n",
       "    .dataframe tbody tr th {\n",
       "        vertical-align: top;\n",
       "    }\n",
       "\n",
       "    .dataframe thead th {\n",
       "        text-align: right;\n",
       "    }\n",
       "</style>\n",
       "<table border=\"1\" class=\"dataframe\">\n",
       "  <thead>\n",
       "    <tr style=\"text-align: right;\">\n",
       "      <th></th>\n",
       "      <th>Mean</th>\n",
       "      <th>STD</th>\n",
       "    </tr>\n",
       "    <tr>\n",
       "      <th>2</th>\n",
       "      <th></th>\n",
       "      <th></th>\n",
       "    </tr>\n",
       "  </thead>\n",
       "  <tbody>\n",
       "    <tr>\n",
       "      <th>ARI</th>\n",
       "      <td>0.575757</td>\n",
       "      <td>0.146168</td>\n",
       "    </tr>\n",
       "    <tr>\n",
       "      <th>FM</th>\n",
       "      <td>0.782599</td>\n",
       "      <td>0.063043</td>\n",
       "    </tr>\n",
       "    <tr>\n",
       "      <th>HCV</th>\n",
       "      <td>0.540644</td>\n",
       "      <td>0.100244</td>\n",
       "    </tr>\n",
       "    <tr>\n",
       "      <th>MI</th>\n",
       "      <td>0.669357</td>\n",
       "      <td>0.101075</td>\n",
       "    </tr>\n",
       "  </tbody>\n",
       "</table>\n",
       "</div>"
      ],
      "text/plain": [
       "         Mean       STD\n",
       "2                      \n",
       "ARI  0.575757  0.146168\n",
       "FM   0.782599  0.063043\n",
       "HCV  0.540644  0.100244\n",
       "MI   0.669357  0.101075"
      ]
     },
     "execution_count": 22,
     "metadata": {},
     "output_type": "execute_result"
    }
   ],
   "source": [
    "train=results_to_df(my_pipe.results.metrics_train)\n",
    "train"
   ]
  },
  {
   "cell_type": "code",
   "execution_count": 23,
   "metadata": {
    "ExecuteTime": {
     "end_time": "2020-05-21T13:12:22.227724Z",
     "start_time": "2020-05-21T13:12:22.114037Z"
    }
   },
   "outputs": [
    {
     "data": {
      "text/html": [
       "<div>\n",
       "<style scoped>\n",
       "    .dataframe tbody tr th:only-of-type {\n",
       "        vertical-align: middle;\n",
       "    }\n",
       "\n",
       "    .dataframe tbody tr th {\n",
       "        vertical-align: top;\n",
       "    }\n",
       "\n",
       "    .dataframe thead th {\n",
       "        text-align: right;\n",
       "    }\n",
       "</style>\n",
       "<table border=\"1\" class=\"dataframe\">\n",
       "  <thead>\n",
       "    <tr style=\"text-align: right;\">\n",
       "      <th></th>\n",
       "      <th>Mean</th>\n",
       "      <th>STD</th>\n",
       "    </tr>\n",
       "    <tr>\n",
       "      <th>2</th>\n",
       "      <th></th>\n",
       "      <th></th>\n",
       "    </tr>\n",
       "  </thead>\n",
       "  <tbody>\n",
       "    <tr>\n",
       "      <th>ARI</th>\n",
       "      <td>0.586229</td>\n",
       "      <td>0.454900</td>\n",
       "    </tr>\n",
       "    <tr>\n",
       "      <th>FM</th>\n",
       "      <td>0.927542</td>\n",
       "      <td>0.100508</td>\n",
       "    </tr>\n",
       "    <tr>\n",
       "      <th>HCV</th>\n",
       "      <td>0.769764</td>\n",
       "      <td>0.364441</td>\n",
       "    </tr>\n",
       "    <tr>\n",
       "      <th>MI</th>\n",
       "      <td>0.568623</td>\n",
       "      <td>0.452762</td>\n",
       "    </tr>\n",
       "  </tbody>\n",
       "</table>\n",
       "</div>"
      ],
      "text/plain": [
       "         Mean       STD\n",
       "2                      \n",
       "ARI  0.586229  0.454900\n",
       "FM   0.927542  0.100508\n",
       "HCV  0.769764  0.364441\n",
       "MI   0.568623  0.452762"
      ]
     },
     "execution_count": 23,
     "metadata": {},
     "output_type": "execute_result"
    }
   ],
   "source": [
    "test = results_to_df(my_pipe.results.metrics_test)\n",
    "test"
   ]
  },
  {
   "cell_type": "code",
   "execution_count": 24,
   "metadata": {
    "ExecuteTime": {
     "end_time": "2020-05-21T13:12:22.331269Z",
     "start_time": "2020-05-21T13:12:22.230751Z"
    }
   },
   "outputs": [
    {
     "data": {
      "text/html": [
       "<div>\n",
       "<style scoped>\n",
       "    .dataframe tbody tr th:only-of-type {\n",
       "        vertical-align: middle;\n",
       "    }\n",
       "\n",
       "    .dataframe tbody tr th {\n",
       "        vertical-align: top;\n",
       "    }\n",
       "\n",
       "    .dataframe thead th {\n",
       "        text-align: right;\n",
       "    }\n",
       "</style>\n",
       "<table border=\"1\" class=\"dataframe\">\n",
       "  <thead>\n",
       "    <tr style=\"text-align: right;\">\n",
       "      <th></th>\n",
       "      <th>Mean</th>\n",
       "      <th>STD</th>\n",
       "    </tr>\n",
       "    <tr>\n",
       "      <th>2</th>\n",
       "      <th></th>\n",
       "      <th></th>\n",
       "    </tr>\n",
       "  </thead>\n",
       "  <tbody>\n",
       "    <tr>\n",
       "      <th>ARI</th>\n",
       "      <td>0.010471</td>\n",
       "      <td>0.308733</td>\n",
       "    </tr>\n",
       "    <tr>\n",
       "      <th>FM</th>\n",
       "      <td>0.144943</td>\n",
       "      <td>0.037464</td>\n",
       "    </tr>\n",
       "    <tr>\n",
       "      <th>HCV</th>\n",
       "      <td>0.229121</td>\n",
       "      <td>0.264198</td>\n",
       "    </tr>\n",
       "    <tr>\n",
       "      <th>MI</th>\n",
       "      <td>-0.100734</td>\n",
       "      <td>0.351687</td>\n",
       "    </tr>\n",
       "  </tbody>\n",
       "</table>\n",
       "</div>"
      ],
      "text/plain": [
       "         Mean       STD\n",
       "2                      \n",
       "ARI  0.010471  0.308733\n",
       "FM   0.144943  0.037464\n",
       "HCV  0.229121  0.264198\n",
       "MI  -0.100734  0.351687"
      ]
     },
     "execution_count": 24,
     "metadata": {},
     "output_type": "execute_result"
    }
   ],
   "source": [
    "test-train"
   ]
  }
 ],
 "metadata": {
  "kernelspec": {
   "display_name": "Python 3",
   "language": "python",
   "name": "python3"
  },
  "language_info": {
   "codemirror_mode": {
    "name": "ipython",
    "version": 3
   },
   "file_extension": ".py",
   "mimetype": "text/x-python",
   "name": "python",
   "nbconvert_exporter": "python",
   "pygments_lexer": "ipython3",
   "version": "3.7.6"
  },
  "toc": {
   "base_numbering": 1,
   "nav_menu": {},
   "number_sections": true,
   "sideBar": true,
   "skip_h1_title": false,
   "title_cell": "Table of Contents",
   "title_sidebar": "Contents",
   "toc_cell": false,
   "toc_position": {
    "height": "calc(100% - 180px)",
    "left": "10px",
    "top": "150px",
    "width": "218px"
   },
   "toc_section_display": true,
   "toc_window_display": true
  }
 },
 "nbformat": 4,
 "nbformat_minor": 4
}
